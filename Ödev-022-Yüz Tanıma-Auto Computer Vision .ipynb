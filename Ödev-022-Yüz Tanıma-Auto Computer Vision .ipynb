{
 "cells": [
  {
   "cell_type": "markdown",
   "id": "9a4d9512",
   "metadata": {},
   "source": [
    "<img src='111.jpg'>"
   ]
  },
  {
   "cell_type": "markdown",
   "id": "d970f08f",
   "metadata": {},
   "source": [
    "# 022-Auto Computer Vision Yüz Tanıma"
   ]
  },
  {
   "cell_type": "code",
   "execution_count": 30,
   "id": "57b8c738",
   "metadata": {},
   "outputs": [
    {
     "name": "stdout",
     "output_type": "stream",
     "text": [
      "Requirement already satisfied: cvlib in c:\\users\\user\\anaconda3\\lib\\site-packages (0.2.7)\n",
      "Requirement already satisfied: numpy in c:\\users\\user\\anaconda3\\lib\\site-packages (from cvlib) (1.24.3)\n",
      "Requirement already satisfied: progressbar in c:\\users\\user\\anaconda3\\lib\\site-packages (from cvlib) (2.5)\n",
      "Requirement already satisfied: requests in c:\\users\\user\\anaconda3\\lib\\site-packages (from cvlib) (2.31.0)\n",
      "Requirement already satisfied: pillow in c:\\users\\user\\anaconda3\\lib\\site-packages (from cvlib) (9.4.0)\n",
      "Requirement already satisfied: imageio in c:\\users\\user\\anaconda3\\lib\\site-packages (from cvlib) (2.26.0)\n",
      "Requirement already satisfied: imutils in c:\\users\\user\\anaconda3\\lib\\site-packages (from cvlib) (0.5.4)\n",
      "Requirement already satisfied: charset-normalizer<4,>=2 in c:\\users\\user\\anaconda3\\lib\\site-packages (from requests->cvlib) (2.0.4)\n",
      "Requirement already satisfied: idna<4,>=2.5 in c:\\users\\user\\anaconda3\\lib\\site-packages (from requests->cvlib) (3.4)\n",
      "Requirement already satisfied: urllib3<3,>=1.21.1 in c:\\users\\user\\anaconda3\\lib\\site-packages (from requests->cvlib) (1.26.16)\n",
      "Requirement already satisfied: certifi>=2017.4.17 in c:\\users\\user\\anaconda3\\lib\\site-packages (from requests->cvlib) (2023.5.7)\n",
      "Note: you may need to restart the kernel to use updated packages.\n"
     ]
    }
   ],
   "source": [
    "pip install cvlib"
   ]
  },
  {
   "cell_type": "code",
   "execution_count": 31,
   "id": "a163acd1",
   "metadata": {},
   "outputs": [
    {
     "name": "stdout",
     "output_type": "stream",
     "text": [
      "Requirement already satisfied: opencv-python in c:\\users\\user\\anaconda3\\lib\\site-packages (4.8.0.76)\n",
      "Requirement already satisfied: numpy>=1.21.2 in c:\\users\\user\\anaconda3\\lib\\site-packages (from opencv-python) (1.24.3)\n"
     ]
    }
   ],
   "source": [
    "!pip install opencv-python"
   ]
  },
  {
   "cell_type": "code",
   "execution_count": 36,
   "id": "680b8ef2",
   "metadata": {},
   "outputs": [],
   "source": [
    "import cv2\n",
    "import matplotlib.pyplot as plt\n",
    "import cvlib\n",
    "from cvlib.object_detection import draw_bbox"
   ]
  },
  {
   "cell_type": "code",
   "execution_count": 44,
   "id": "f8cae8cd",
   "metadata": {},
   "outputs": [],
   "source": [
    "face_cascade = cv2.CascadeClassifier('haarcascade_frontalface_default.xml')"
   ]
  },
  {
   "cell_type": "code",
   "execution_count": 45,
   "id": "6d208475",
   "metadata": {},
   "outputs": [],
   "source": [
    "img = cv2.imread('talhaa.jpg')"
   ]
  },
  {
   "cell_type": "code",
   "execution_count": 46,
   "id": "8aec4ef1",
   "metadata": {},
   "outputs": [],
   "source": [
    "faces = face_cascade.detectMultiScale(img, 1.1, 4)"
   ]
  },
  {
   "cell_type": "code",
   "execution_count": 48,
   "id": "d6e9485f",
   "metadata": {},
   "outputs": [
    {
     "name": "stdout",
     "output_type": "stream",
     "text": [
      "Successfully saved\n"
     ]
    }
   ],
   "source": [
    "for (x, y, w, h) in faces: \n",
    "  cv2.rectangle(img, (x, y), (x+w, y+h), (255, 0, 0), 2)\n",
    "cv2.imwrite(\"face_detected.jpg\", img) \n",
    "print('Successfully saved')"
   ]
  },
  {
   "cell_type": "code",
   "execution_count": null,
   "id": "bef23b87",
   "metadata": {},
   "outputs": [],
   "source": []
  }
 ],
 "metadata": {
  "kernelspec": {
   "display_name": "Python 3 (ipykernel)",
   "language": "python",
   "name": "python3"
  },
  "language_info": {
   "codemirror_mode": {
    "name": "ipython",
    "version": 3
   },
   "file_extension": ".py",
   "mimetype": "text/x-python",
   "name": "python",
   "nbconvert_exporter": "python",
   "pygments_lexer": "ipython3",
   "version": "3.11.3"
  }
 },
 "nbformat": 4,
 "nbformat_minor": 5
}
